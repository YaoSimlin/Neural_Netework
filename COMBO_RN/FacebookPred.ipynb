{
 "cells": [
  {
   "cell_type": "markdown",
   "metadata": {},
   "source": [
    "# NEURAL NETWORK \n",
    "\n",
    "FACEBOOK PREDICTION"
   ]
  },
  {
   "cell_type": "markdown",
   "metadata": {},
   "source": [
    "This practical exercice will consist of predict whether a costumer of facebook will like or not a post present to him"
   ]
  },
  {
   "cell_type": "code",
   "execution_count": null,
   "metadata": {},
   "outputs": [],
   "source": [
    "import pandas as pd\n",
    "import numpy as np\n",
    "import math\n",
    "import keras\n",
    "df = pd.read_csv(\"Facebook1.csv\",sep=\",\", encoding=\"UTF\") #dowloading csv data "
   ]
  },
  {
   "cell_type": "markdown",
   "metadata": {},
   "source": [
    "Let's have a look on data"
   ]
  },
  {
   "cell_type": "code",
   "execution_count": 32,
   "metadata": {},
   "outputs": [
    {
     "data": {
      "text/plain": [
       "(160407, 34)"
      ]
     },
     "execution_count": 32,
     "metadata": {},
     "output_type": "execute_result"
    }
   ],
   "source": [
    "df.shape"
   ]
  },
  {
   "cell_type": "markdown",
   "metadata": {},
   "source": [
    "Let's have a look on data description and data type"
   ]
  },
  {
   "cell_type": "code",
   "execution_count": 33,
   "metadata": {},
   "outputs": [
    {
     "data": {
      "text/plain": [
       "ID                           int64\n",
       "Name                        object\n",
       "Age                          int64\n",
       "Gender                       int64\n",
       "Marital Status               int64\n",
       "Town                         int64\n",
       "Nationality                  int64\n",
       "Education                    int64\n",
       "Hobby                        int64\n",
       "Occupation                   int64\n",
       "Contact                      int64\n",
       "Religion                     int64\n",
       "Language                     int64\n",
       "Group type                   int64\n",
       "Post number per day          int64\n",
       "Who posted ?                 int64\n",
       "When ?                       int64\n",
       "Relationship                 int64\n",
       "Age of poster                int64\n",
       "Gender of poster             int64\n",
       "Post Nature                  int64\n",
       "Subject                      int64\n",
       "Reaction of Other            int64\n",
       "Shared                       int64\n",
       "Tags                         int64\n",
       "Privacy                      int64\n",
       "Location                     int64\n",
       "Feeling                      int64\n",
       "Post Language                int64\n",
       "Device                       int64\n",
       "Marital Status of Poster     int64\n",
       "Followers                    int64\n",
       "Origin of Post               int64\n",
       "Like                         int64\n",
       "dtype: object"
      ]
     },
     "execution_count": 33,
     "metadata": {},
     "output_type": "execute_result"
    }
   ],
   "source": [
    "df.describe().T\n",
    "df.dtypes"
   ]
  },
  {
   "cell_type": "markdown",
   "metadata": {},
   "source": [
    "Let's verify whether our data sample have Nan values"
   ]
  },
  {
   "cell_type": "code",
   "execution_count": 34,
   "metadata": {},
   "outputs": [
    {
     "data": {
      "text/plain": [
       "ID                          0\n",
       "Name                        0\n",
       "Age                         0\n",
       "Gender                      0\n",
       "Marital Status              0\n",
       "Town                        0\n",
       "Nationality                 0\n",
       "Education                   0\n",
       "Hobby                       0\n",
       "Occupation                  0\n",
       "Contact                     0\n",
       "Religion                    0\n",
       "Language                    0\n",
       "Group type                  0\n",
       "Post number per day         0\n",
       "Who posted ?                0\n",
       "When ?                      0\n",
       "Relationship                0\n",
       "Age of poster               0\n",
       "Gender of poster            0\n",
       "Post Nature                 0\n",
       "Subject                     0\n",
       "Reaction of Other           0\n",
       "Shared                      0\n",
       "Tags                        0\n",
       "Privacy                     0\n",
       "Location                    0\n",
       "Feeling                     0\n",
       "Post Language               0\n",
       "Device                      0\n",
       "Marital Status of Poster    0\n",
       "Followers                   0\n",
       "Origin of Post              0\n",
       "Like                        0\n",
       "dtype: int64"
      ]
     },
     "execution_count": 34,
     "metadata": {},
     "output_type": "execute_result"
    }
   ],
   "source": [
    "# Your code here \n",
    "df.isnull().sum()"
   ]
  },
  {
   "cell_type": "markdown",
   "metadata": {},
   "source": [
    "NNow let's divided data into feature and predicted "
   ]
  },
  {
   "cell_type": "code",
   "execution_count": 35,
   "metadata": {},
   "outputs": [],
   "source": [
    "# Your code here \n",
    "pred=df[[\"Like\"]]\n",
    "feat=df.drop([\"ID\", \"Name\", \"Like\"],1)\n",
    "X=feat\n",
    "Y=pred"
   ]
  },
  {
   "cell_type": "markdown",
   "metadata": {},
   "source": [
    "# Sampling\n",
    "\n",
    "We are using cross validation protocol to implement our model. So we will split sample into 75% for learning and 25% for test. Thus we note : x_train learning data for prediction and x_test data we will use for testing our model. Data to be predicted for set x_train and x_test are y_train and y_test We will use the library **train_test_split** of `sklearn.model_selection`"
   ]
  },
  {
   "cell_type": "code",
   "execution_count": 36,
   "metadata": {},
   "outputs": [
    {
     "name": "stdout",
     "output_type": "stream",
     "text": [
      "Taille des données d'entrainement Xi: (120305, 31)\n",
      "Taille des données d'entrainement Y: (120305, 1)\n",
      "Taille des données de test Xi: (40102, 31)\n",
      "Taille des données de test Y: (40102, 1)\n"
     ]
    }
   ],
   "source": [
    "from sklearn.model_selection import train_test_split\n",
    "\n",
    "x_train, x_test, y_train, y_test=train_test_split(X, Y, test_size=0.25, random_state=0)\n",
    "\n",
    "print(\"Taille des données d'entrainement Xi:\", x_train.shape)\n",
    "print(\"Taille des données d'entrainement Y:\", y_train.shape)\n",
    "print(\"Taille des données de test Xi:\", x_test.shape)\n",
    "print(\"Taille des données de test Y:\", y_test.shape)"
   ]
  },
  {
   "cell_type": "markdown",
   "metadata": {},
   "source": [
    "# Construction of our Neural Network model¶"
   ]
  },
  {
   "cell_type": "markdown",
   "metadata": {},
   "source": [
    "Steps of neural network learning that we will implement:¶  \n",
    "\n",
    "1- Random initialization of weights uniformly randomly;   \n",
    "\n",
    "2- Put the observations of our dataset on the input layer of the network;  \n",
    "\n",
    "3- Propagate input values to the output: neurons are activated and predict whether a client will like or not;  \n",
    "\n",
    "4- Compare the predicted results to the actual values of our dataset;  \n",
    "\n",
    "5- We adjust `the weights` for the neurons involved in the errors noted in the previous step;  \n",
    "\n",
    "6- Repeat all previous steps as many times as desired and keep the weights that produced the lowest error.  \n",
    "\n",
    "\n",
    "Throughout our study, we will make modeling choices for our neural network and justify them."
   ]
  },
  {
   "cell_type": "markdown",
   "metadata": {},
   "source": [
    "Our network will have an **input layer** and an **output layer** for the input layer we choose for the first step 1 node, for `connection weigth` we use an uniform distribution and the activation function `'relu'`. the `input_shape=31` because we have 31 variables.\n",
    "\n",
    "Also have : `sigmoid`, `softmax`, `softplus`, `tanh`, `selu`, `elu`, `LeakyRelu`"
   ]
  },
  {
   "cell_type": "code",
   "execution_count": 37,
   "metadata": {},
   "outputs": [],
   "source": [
    "from keras.models import Sequential\n",
    "from keras.layers import Dense\n",
    "from keras.layers import Dropout\n",
    "\n",
    "network=Sequential()\n",
    "network.add(Dense(1, kernel_initializer='uniform', activation='relu', \n",
    "                  bias_initializer='zero', input_shape=(31,)))\n",
    "network.add(Dense(1, kernel_initializer='uniform', activation='relu'))"
   ]
  },
  {
   "cell_type": "code",
   "execution_count": 38,
   "metadata": {},
   "outputs": [
    {
     "name": "stdout",
     "output_type": "stream",
     "text": [
      "Model: \"sequential_2\"\n",
      "_________________________________________________________________\n",
      "Layer (type)                 Output Shape              Param #   \n",
      "=================================================================\n",
      "dense_4 (Dense)              (None, 1)                 32        \n",
      "_________________________________________________________________\n",
      "dense_5 (Dense)              (None, 1)                 2         \n",
      "=================================================================\n",
      "Total params: 34\n",
      "Trainable params: 34\n",
      "Non-trainable params: 0\n",
      "_________________________________________________________________\n"
     ]
    }
   ],
   "source": [
    "network.summary() #present the total number of paramters of our network"
   ]
  },
  {
   "cell_type": "markdown",
   "metadata": {},
   "source": [
    "Now we will compile our neural network "
   ]
  },
  {
   "cell_type": "markdown",
   "metadata": {},
   "source": [
    "To compile our network we use the `rmsprop` optimizer, the `categorical_crossentropy` as loss function and then the `accuracy` metric"
   ]
  },
  {
   "cell_type": "code",
   "execution_count": 39,
   "metadata": {},
   "outputs": [],
   "source": [
    "network.compile(optimizer='rmsprop', loss='binary_crossentropy', metrics=['accuracy'])"
   ]
  },
  {
   "cell_type": "markdown",
   "metadata": {},
   "source": [
    "Let's fit the network now"
   ]
  },
  {
   "cell_type": "markdown",
   "metadata": {},
   "source": [
    "The `batch size` is a number of samples processed before the connection weight of the model is updated. `(trying smaller batch size first 32 or 64. In short the powers of 2)`.  \n",
    "\n",
    "The number of `epoch` is the number of complete passes through the training dataset  \n",
    "\n",
    "`Workers` represent the total number of processus that will be used to train our model, only when you are computing in parallel. "
   ]
  },
  {
   "cell_type": "code",
   "execution_count": 40,
   "metadata": {},
   "outputs": [
    {
     "name": "stdout",
     "output_type": "stream",
     "text": [
      "Epoch 1/100\n",
      "3760/3760 [==============================] - 2s 580us/step - loss: -6.9058 - accuracy: 0.4677\n",
      "Epoch 2/100\n",
      "3760/3760 [==============================] - 2s 558us/step - loss: -7.6703 - accuracy: 0.4970\n",
      "Epoch 3/100\n",
      "3760/3760 [==============================] - 2s 560us/step - loss: -7.6908 - accuracy: 0.4957\n",
      "Epoch 4/100\n",
      "3760/3760 [==============================] - 2s 565us/step - loss: -7.6406 - accuracy: 0.4990\n",
      "Epoch 5/100\n",
      "3760/3760 [==============================] - 2s 562us/step - loss: -7.6577 - accuracy: 0.4978 1s - loss: -7.6301 -  - ETA: 0s - loss: -7.6518 - accur\n",
      "Epoch 6/100\n",
      "3760/3760 [==============================] - 2s 555us/step - loss: -7.6562 - accuracy: 0.4979\n",
      "Epoch 7/100\n",
      "3760/3760 [==============================] - 2s 568us/step - loss: -7.6638 - accuracy: 0.4974 1s - \n",
      "Epoch 8/100\n",
      "3760/3760 [==============================] - 2s 558us/step - loss: -7.6871 - accuracy: 0.4959\n",
      "Epoch 9/100\n",
      "3760/3760 [==============================] - 2s 564us/step - loss: -7.6428 - accuracy: 0.4988\n",
      "Epoch 10/100\n",
      "3760/3760 [==============================] - 2s 565us/step - loss: -7.6966 - accuracy: 0.4953\n",
      "Epoch 11/100\n",
      "3760/3760 [==============================] - 2s 555us/step - loss: -7.6216 - accuracy: 0.5002 0s - loss: -7.6056 - accuracy:  - ETA: 0s - loss: -7.6122 - accura\n",
      "Epoch 12/100\n",
      "3760/3760 [==============================] - 2s 551us/step - loss: -7.6479 - accuracy: 0.4985\n",
      "Epoch 13/100\n",
      "3760/3760 [==============================] - 2s 556us/step - loss: -7.6537 - accuracy: 0.4981\n",
      "Epoch 14/100\n",
      "3760/3760 [==============================] - 2s 555us/step - loss: -7.6557 - accuracy: 0.4980\n",
      "Epoch 15/100\n",
      "3760/3760 [==============================] - 2s 550us/step - loss: -7.6820 - accuracy: 0.4962\n",
      "Epoch 16/100\n",
      "3760/3760 [==============================] - 2s 557us/step - loss: -7.6856 - accuracy: 0.4960\n",
      "Epoch 17/100\n",
      "3760/3760 [==============================] - 2s 557us/step - loss: -7.6669 - accuracy: 0.4972\n",
      "Epoch 18/100\n",
      "3760/3760 [==============================] - 2s 635us/step - loss: -7.6912 - accuracy: 0.4956\n",
      "Epoch 19/100\n",
      "3760/3760 [==============================] - 2s 649us/step - loss: -7.6059 - accuracy: 0.5012\n",
      "Epoch 20/100\n",
      "3760/3760 [==============================] - 2s 635us/step - loss: -7.6546 - accuracy: 0.4980\n",
      "Epoch 21/100\n",
      "3760/3760 [==============================] - 2s 649us/step - loss: -7.6690 - accuracy: 0.4971\n",
      "Epoch 22/100\n",
      "3760/3760 [==============================] - 2s 640us/step - loss: -7.6836 - accuracy: 0.4961\n",
      "Epoch 23/100\n",
      "3760/3760 [==============================] - 2s 637us/step - loss: -7.6415 - accuracy: 0.4989\n",
      "Epoch 24/100\n",
      "3760/3760 [==============================] - 2s 664us/step - loss: -7.7147 - accuracy: 0.4941\n",
      "Epoch 25/100\n",
      "3760/3760 [==============================] - 2s 654us/step - loss: -7.6419 - accuracy: 0.4989\n",
      "Epoch 26/100\n",
      "3760/3760 [==============================] - 2s 647us/step - loss: -7.6520 - accuracy: 0.4982\n",
      "Epoch 27/100\n",
      "3760/3760 [==============================] - 2s 648us/step - loss: -7.6499 - accuracy: 0.4983\n",
      "Epoch 28/100\n",
      "3760/3760 [==============================] - 2s 645us/step - loss: -7.6888 - accuracy: 0.4958\n",
      "Epoch 29/100\n",
      "3760/3760 [==============================] - 2s 644us/step - loss: -7.6620 - accuracy: 0.4976\n",
      "Epoch 30/100\n",
      "3760/3760 [==============================] - 2s 647us/step - loss: -7.6864 - accuracy: 0.4960\n",
      "Epoch 31/100\n",
      "3760/3760 [==============================] - 2s 654us/step - loss: -7.6636 - accuracy: 0.4975\n",
      "Epoch 32/100\n",
      "3760/3760 [==============================] - 2s 651us/step - loss: -7.6606 - accuracy: 0.4976 1s - l\n",
      "Epoch 33/100\n",
      "3760/3760 [==============================] - 2s 633us/step - loss: -7.6524 - accuracy: 0.4982\n",
      "Epoch 34/100\n",
      "3760/3760 [==============================] - 2s 647us/step - loss: -7.7084 - accuracy: 0.4945\n",
      "Epoch 35/100\n",
      "3760/3760 [==============================] - 2s 638us/step - loss: -7.6724 - accuracy: 0.4969 0s - loss: -7.6731 - accuracy: 0.\n",
      "Epoch 36/100\n",
      "3760/3760 [==============================] - 2s 648us/step - loss: -7.6627 - accuracy: 0.4975\n",
      "Epoch 37/100\n",
      "3760/3760 [==============================] - 2s 637us/step - loss: -7.6912 - accuracy: 0.4956\n",
      "Epoch 38/100\n",
      "3760/3760 [==============================] - 2s 648us/step - loss: -7.6574 - accuracy: 0.4979 0s - loss: -7.6541 - accura\n",
      "Epoch 39/100\n",
      "3760/3760 [==============================] - 2s 636us/step - loss: -7.6786 - accuracy: 0.4965\n",
      "Epoch 40/100\n",
      "3760/3760 [==============================] - 2s 647us/step - loss: -7.7032 - accuracy: 0.4949\n",
      "Epoch 41/100\n",
      "3760/3760 [==============================] - 2s 641us/step - loss: -7.6870 - accuracy: 0.4959\n",
      "Epoch 42/100\n",
      "3760/3760 [==============================] - 2s 645us/step - loss: -7.6531 - accuracy: 0.4981\n",
      "Epoch 43/100\n",
      "3760/3760 [==============================] - 2s 637us/step - loss: -7.6652 - accuracy: 0.4973\n",
      "Epoch 44/100\n",
      "3760/3760 [==============================] - 2s 649us/step - loss: -7.6603 - accuracy: 0.4977 0s - loss: -7.6620\n",
      "Epoch 45/100\n",
      "3760/3760 [==============================] - 2s 641us/step - loss: -7.6416 - accuracy: 0.4989\n",
      "Epoch 46/100\n",
      "3760/3760 [==============================] - 2s 643us/step - loss: -7.6631 - accuracy: 0.4975\n",
      "Epoch 47/100\n",
      "3760/3760 [==============================] - 2s 638us/step - loss: -7.6981 - accuracy: 0.4952\n",
      "Epoch 48/100\n",
      "3760/3760 [==============================] - 2s 644us/step - loss: -7.6788 - accuracy: 0.4965\n",
      "Epoch 49/100\n",
      "3760/3760 [==============================] - 2s 643us/step - loss: -7.6779 - accuracy: 0.4965\n",
      "Epoch 50/100\n",
      "3760/3760 [==============================] - 2s 658us/step - loss: -7.6620 - accuracy: 0.4976\n",
      "Epoch 51/100\n",
      "3760/3760 [==============================] - 2s 646us/step - loss: -7.6458 - accuracy: 0.4986\n",
      "Epoch 52/100\n",
      "3760/3760 [==============================] - 2s 641us/step - loss: -7.7137 - accuracy: 0.4942\n",
      "Epoch 53/100\n",
      "3760/3760 [==============================] - 2s 656us/step - loss: -7.6484 - accuracy: 0.4984\n",
      "Epoch 54/100\n",
      "3760/3760 [==============================] - 2s 640us/step - loss: -7.6517 - accuracy: 0.4982\n",
      "Epoch 55/100\n",
      "3760/3760 [==============================] - 2s 651us/step - loss: -7.6771 - accuracy: 0.4966\n",
      "Epoch 56/100\n",
      "3760/3760 [==============================] - 2s 641us/step - loss: -7.6802 - accuracy: 0.4964\n",
      "Epoch 57/100\n",
      "3760/3760 [==============================] - 2s 649us/step - loss: -7.6639 - accuracy: 0.4974\n",
      "Epoch 58/100\n",
      "3760/3760 [==============================] - 2s 639us/step - loss: -7.6614 - accuracy: 0.4976\n",
      "Epoch 59/100\n",
      "3760/3760 [==============================] - 2s 658us/step - loss: -7.6298 - accuracy: 0.4997\n",
      "Epoch 60/100\n",
      "3760/3760 [==============================] - 2s 639us/step - loss: -7.6809 - accuracy: 0.4963\n",
      "Epoch 61/100\n",
      "3760/3760 [==============================] - 2s 648us/step - loss: -7.6630 - accuracy: 0.4975\n",
      "Epoch 62/100\n",
      "3760/3760 [==============================] - 2s 640us/step - loss: -7.6433 - accuracy: 0.4988\n",
      "Epoch 63/100\n",
      "3760/3760 [==============================] - 2s 637us/step - loss: -7.7012 - accuracy: 0.4950\n",
      "Epoch 64/100\n",
      "3760/3760 [==============================] - 2s 641us/step - loss: -7.6394 - accuracy: 0.4990\n",
      "Epoch 65/100\n",
      "3760/3760 [==============================] - 2s 651us/step - loss: -7.7027 - accuracy: 0.4949\n",
      "Epoch 66/100\n",
      "3760/3760 [==============================] - 2s 643us/step - loss: -7.6788 - accuracy: 0.4965 0s - loss: -7.6818 - accuracy\n",
      "Epoch 67/100\n",
      "3760/3760 [==============================] - 2s 637us/step - loss: -7.6582 - accuracy: 0.4978\n",
      "Epoch 68/100\n",
      "3760/3760 [==============================] - 2s 638us/step - loss: -7.6512 - accuracy: 0.4983\n",
      "Epoch 69/100\n",
      "3760/3760 [==============================] - 2s 655us/step - loss: -7.6597 - accuracy: 0.4977\n",
      "Epoch 70/100\n",
      "3760/3760 [==============================] - 2s 638us/step - loss: -7.6514 - accuracy: 0.4983\n",
      "Epoch 71/100\n",
      "3760/3760 [==============================] - 2s 640us/step - loss: -7.6781 - accuracy: 0.4965\n",
      "Epoch 72/100\n",
      "3760/3760 [==============================] - 2s 643us/step - loss: -7.6300 - accuracy: 0.4997\n",
      "Epoch 73/100\n",
      "3760/3760 [==============================] - 2s 655us/step - loss: -7.6175 - accuracy: 0.5005\n",
      "Epoch 74/100\n",
      "3760/3760 [==============================] - 3s 670us/step - loss: -7.6680 - accuracy: 0.4972\n",
      "Epoch 75/100\n",
      "3760/3760 [==============================] - 2s 652us/step - loss: -7.6498 - accuracy: 0.4984\n",
      "Epoch 76/100\n",
      "3760/3760 [==============================] - 2s 647us/step - loss: -7.6671 - accuracy: 0.4972\n",
      "Epoch 77/100\n",
      "3760/3760 [==============================] - 2s 637us/step - loss: -7.6804 - accuracy: 0.4963\n",
      "Epoch 78/100\n",
      "3760/3760 [==============================] - 3s 694us/step - loss: -7.6441 - accuracy: 0.4987\n",
      "Epoch 79/100\n",
      "3760/3760 [==============================] - 3s 680us/step - loss: -7.6792 - accuracy: 0.4964\n",
      "Epoch 80/100\n",
      "3760/3760 [==============================] - 2s 638us/step - loss: -7.6697 - accuracy: 0.4970\n",
      "Epoch 81/100\n",
      "3760/3760 [==============================] - 2s 645us/step - loss: -7.7060 - accuracy: 0.4947\n",
      "Epoch 82/100\n",
      "3760/3760 [==============================] - 2s 643us/step - loss: -7.7186 - accuracy: 0.4938\n",
      "Epoch 83/100\n",
      "3760/3760 [==============================] - 2s 637us/step - loss: -7.6835 - accuracy: 0.4961\n",
      "Epoch 84/100\n",
      "3760/3760 [==============================] - 2s 634us/step - loss: -7.6600 - accuracy: 0.4977\n",
      "Epoch 85/100\n",
      "3760/3760 [==============================] - 2s 637us/step - loss: -7.6838 - accuracy: 0.4961  - ETA: 0s - loss: -7.6852 - accuracy: 0.\n",
      "Epoch 86/100\n",
      "3760/3760 [==============================] - 2s 654us/step - loss: -7.6782 - accuracy: 0.4965\n",
      "Epoch 87/100\n",
      "3760/3760 [==============================] - 2s 649us/step - loss: -7.6213 - accuracy: 0.5002\n",
      "Epoch 88/100\n",
      "3760/3760 [==============================] - 2s 657us/step - loss: -7.6983 - accuracy: 0.4952\n",
      "Epoch 89/100\n",
      "3760/3760 [==============================] - 2s 638us/step - loss: -7.6184 - accuracy: 0.5004\n",
      "Epoch 90/100\n",
      "3760/3760 [==============================] - 2s 638us/step - loss: -7.7121 - accuracy: 0.4943\n",
      "Epoch 91/100\n",
      "3760/3760 [==============================] - 2s 643us/step - loss: -7.6418 - accuracy: 0.4989\n",
      "Epoch 92/100\n",
      "3760/3760 [==============================] - 2s 650us/step - loss: -7.6694 - accuracy: 0.4971\n",
      "Epoch 93/100\n",
      "3760/3760 [==============================] - 2s 637us/step - loss: -7.6554 - accuracy: 0.4980\n",
      "Epoch 94/100\n",
      "3760/3760 [==============================] - 2s 651us/step - loss: -7.6688 - accuracy: 0.4971\n",
      "Epoch 95/100\n",
      "3760/3760 [==============================] - 2s 635us/step - loss: -7.6918 - accuracy: 0.4956\n",
      "Epoch 96/100\n",
      "3760/3760 [==============================] - 2s 648us/step - loss: -7.6693 - accuracy: 0.4971\n",
      "Epoch 97/100\n",
      "3760/3760 [==============================] - 2s 642us/step - loss: -7.6873 - accuracy: 0.4959\n",
      "Epoch 98/100\n",
      "3760/3760 [==============================] - 2s 653us/step - loss: -7.7102 - accuracy: 0.4944\n",
      "Epoch 99/100\n",
      "3760/3760 [==============================] - 2s 642us/step - loss: -7.6527 - accuracy: 0.4982 0s - loss: -7.6457 - accu\n",
      "Epoch 100/100\n",
      "3760/3760 [==============================] - 2s 656us/step - loss: -7.6750 - accuracy: 0.4967\n"
     ]
    },
    {
     "data": {
      "text/plain": [
       "<tensorflow.python.keras.callbacks.History at 0x7f0978698550>"
      ]
     },
     "execution_count": 40,
     "metadata": {},
     "output_type": "execute_result"
    }
   ],
   "source": [
    "network.fit(x_train, y_train, batch_size=32, epochs=100, workers=3)"
   ]
  },
  {
   "cell_type": "markdown",
   "metadata": {},
   "source": [
    "Let's remove some data for the prediction"
   ]
  },
  {
   "cell_type": "code",
   "execution_count": 41,
   "metadata": {},
   "outputs": [
    {
     "data": {
      "text/html": [
       "<div>\n",
       "<style scoped>\n",
       "    .dataframe tbody tr th:only-of-type {\n",
       "        vertical-align: middle;\n",
       "    }\n",
       "\n",
       "    .dataframe tbody tr th {\n",
       "        vertical-align: top;\n",
       "    }\n",
       "\n",
       "    .dataframe thead th {\n",
       "        text-align: right;\n",
       "    }\n",
       "</style>\n",
       "<table border=\"1\" class=\"dataframe\">\n",
       "  <thead>\n",
       "    <tr style=\"text-align: right;\">\n",
       "      <th></th>\n",
       "      <th>Age</th>\n",
       "      <th>Gender</th>\n",
       "      <th>Marital Status</th>\n",
       "      <th>Town</th>\n",
       "      <th>Nationality</th>\n",
       "      <th>Education</th>\n",
       "      <th>Hobby</th>\n",
       "      <th>Occupation</th>\n",
       "      <th>Contact</th>\n",
       "      <th>Religion</th>\n",
       "      <th>...</th>\n",
       "      <th>Shared</th>\n",
       "      <th>Tags</th>\n",
       "      <th>Privacy</th>\n",
       "      <th>Location</th>\n",
       "      <th>Feeling</th>\n",
       "      <th>Post Language</th>\n",
       "      <th>Device</th>\n",
       "      <th>Marital Status of Poster</th>\n",
       "      <th>Followers</th>\n",
       "      <th>Origin of Post</th>\n",
       "    </tr>\n",
       "  </thead>\n",
       "  <tbody>\n",
       "    <tr>\n",
       "      <th>57152</th>\n",
       "      <td>85</td>\n",
       "      <td>1</td>\n",
       "      <td>6</td>\n",
       "      <td>2</td>\n",
       "      <td>3</td>\n",
       "      <td>2</td>\n",
       "      <td>10</td>\n",
       "      <td>2</td>\n",
       "      <td>7</td>\n",
       "      <td>1</td>\n",
       "      <td>...</td>\n",
       "      <td>6</td>\n",
       "      <td>1</td>\n",
       "      <td>3</td>\n",
       "      <td>2</td>\n",
       "      <td>7</td>\n",
       "      <td>4</td>\n",
       "      <td>1</td>\n",
       "      <td>2</td>\n",
       "      <td>1</td>\n",
       "      <td>1</td>\n",
       "    </tr>\n",
       "    <tr>\n",
       "      <th>113160</th>\n",
       "      <td>63</td>\n",
       "      <td>2</td>\n",
       "      <td>5</td>\n",
       "      <td>5</td>\n",
       "      <td>2</td>\n",
       "      <td>1</td>\n",
       "      <td>7</td>\n",
       "      <td>1</td>\n",
       "      <td>5</td>\n",
       "      <td>1</td>\n",
       "      <td>...</td>\n",
       "      <td>7</td>\n",
       "      <td>1</td>\n",
       "      <td>4</td>\n",
       "      <td>1</td>\n",
       "      <td>1</td>\n",
       "      <td>4</td>\n",
       "      <td>3</td>\n",
       "      <td>3</td>\n",
       "      <td>3</td>\n",
       "      <td>4</td>\n",
       "    </tr>\n",
       "  </tbody>\n",
       "</table>\n",
       "<p>2 rows × 31 columns</p>\n",
       "</div>"
      ],
      "text/plain": [
       "        Age  Gender   Marital Status  Town  Nationality  Education  Hobby  \\\n",
       "57152    85        1               6     2            3          2     10   \n",
       "113160   63        2               5     5            2          1      7   \n",
       "\n",
       "        Occupation  Contact  Religion  ...  Shared  Tags  Privacy  Location  \\\n",
       "57152            2        7         1  ...       6     1        3         2   \n",
       "113160           1        5         1  ...       7     1        4         1   \n",
       "\n",
       "        Feeling  Post Language  Device  Marital Status of Poster  Followers  \\\n",
       "57152         7              4       1                         2          1   \n",
       "113160        1              4       3                         3          3   \n",
       "\n",
       "        Origin of Post  \n",
       "57152                1  \n",
       "113160               4  \n",
       "\n",
       "[2 rows x 31 columns]"
      ]
     },
     "execution_count": 41,
     "metadata": {},
     "output_type": "execute_result"
    }
   ],
   "source": [
    "x_new=x_test[:2] #Selection of the first line of x_test matrix\n",
    "y_new=y_test[:2]\n",
    "x_new"
   ]
  },
  {
   "cell_type": "code",
   "execution_count": 42,
   "metadata": {},
   "outputs": [
    {
     "data": {
      "text/html": [
       "<div>\n",
       "<style scoped>\n",
       "    .dataframe tbody tr th:only-of-type {\n",
       "        vertical-align: middle;\n",
       "    }\n",
       "\n",
       "    .dataframe tbody tr th {\n",
       "        vertical-align: top;\n",
       "    }\n",
       "\n",
       "    .dataframe thead th {\n",
       "        text-align: right;\n",
       "    }\n",
       "</style>\n",
       "<table border=\"1\" class=\"dataframe\">\n",
       "  <thead>\n",
       "    <tr style=\"text-align: right;\">\n",
       "      <th></th>\n",
       "      <th>Like</th>\n",
       "    </tr>\n",
       "  </thead>\n",
       "  <tbody>\n",
       "    <tr>\n",
       "      <th>57152</th>\n",
       "      <td>1</td>\n",
       "    </tr>\n",
       "    <tr>\n",
       "      <th>113160</th>\n",
       "      <td>2</td>\n",
       "    </tr>\n",
       "  </tbody>\n",
       "</table>\n",
       "</div>"
      ],
      "text/plain": [
       "        Like\n",
       "57152      1\n",
       "113160     2"
      ]
     },
     "execution_count": 42,
     "metadata": {},
     "output_type": "execute_result"
    }
   ],
   "source": [
    "y_new"
   ]
  },
  {
   "cell_type": "markdown",
   "metadata": {},
   "source": [
    "# TESTING THE MODEL"
   ]
  },
  {
   "cell_type": "markdown",
   "metadata": {},
   "source": [
    "Now we will `evaluate` the paramters of our network"
   ]
  },
  {
   "cell_type": "code",
   "execution_count": 43,
   "metadata": {},
   "outputs": [
    {
     "name": "stdout",
     "output_type": "stream",
     "text": [
      "1254/1254 [==============================] - 1s 433us/step - loss: -7.6566 - accuracy: 0.4979\n",
      "loss : -7.6565680503845215\n",
      "score : 0.49790534377098083\n"
     ]
    }
   ],
   "source": [
    "loss,score=network.evaluate(x_test,y_test)\n",
    "print(\"loss :\", loss)\n",
    "print(\"score :\", score)"
   ]
  },
  {
   "cell_type": "markdown",
   "metadata": {},
   "source": [
    "# PREDICTION"
   ]
  },
  {
   "cell_type": "code",
   "execution_count": 44,
   "metadata": {},
   "outputs": [
    {
     "data": {
      "text/plain": [
       "array([[2.2476244],\n",
       "       [2.5364761]], dtype=float32)"
      ]
     },
     "execution_count": 44,
     "metadata": {},
     "output_type": "execute_result"
    }
   ],
   "source": [
    "o=network.predict(x_new)\n",
    "o"
   ]
  },
  {
   "cell_type": "markdown",
   "metadata": {},
   "source": [
    "comparison with the real value"
   ]
  },
  {
   "cell_type": "code",
   "execution_count": 45,
   "metadata": {},
   "outputs": [
    {
     "data": {
      "text/html": [
       "<div>\n",
       "<style scoped>\n",
       "    .dataframe tbody tr th:only-of-type {\n",
       "        vertical-align: middle;\n",
       "    }\n",
       "\n",
       "    .dataframe tbody tr th {\n",
       "        vertical-align: top;\n",
       "    }\n",
       "\n",
       "    .dataframe thead th {\n",
       "        text-align: right;\n",
       "    }\n",
       "</style>\n",
       "<table border=\"1\" class=\"dataframe\">\n",
       "  <thead>\n",
       "    <tr style=\"text-align: right;\">\n",
       "      <th></th>\n",
       "      <th>Like</th>\n",
       "    </tr>\n",
       "  </thead>\n",
       "  <tbody>\n",
       "    <tr>\n",
       "      <th>57152</th>\n",
       "      <td>-1.247624</td>\n",
       "    </tr>\n",
       "    <tr>\n",
       "      <th>113160</th>\n",
       "      <td>-0.536476</td>\n",
       "    </tr>\n",
       "  </tbody>\n",
       "</table>\n",
       "</div>"
      ],
      "text/plain": [
       "            Like\n",
       "57152  -1.247624\n",
       "113160 -0.536476"
      ]
     },
     "execution_count": 45,
     "metadata": {},
     "output_type": "execute_result"
    }
   ],
   "source": [
    "e=y_new-o\n",
    "e"
   ]
  },
  {
   "cell_type": "code",
   "execution_count": null,
   "metadata": {},
   "outputs": [],
   "source": []
  }
 ],
 "metadata": {
  "kernelspec": {
   "display_name": "Python 3 (ipykernel)",
   "language": "python",
   "name": "python3"
  },
  "language_info": {
   "codemirror_mode": {
    "name": "ipython",
    "version": 3
   },
   "file_extension": ".py",
   "mimetype": "text/x-python",
   "name": "python",
   "nbconvert_exporter": "python",
   "pygments_lexer": "ipython3",
   "version": "3.9.7"
  }
 },
 "nbformat": 4,
 "nbformat_minor": 4
}
